{
  "nbformat": 4,
  "nbformat_minor": 0,
  "metadata": {
    "colab": {
      "provenance": []
    },
    "kernelspec": {
      "name": "python3",
      "display_name": "Python 3"
    },
    "language_info": {
      "name": "python"
    }
  },
  "cells": [
    {
      "cell_type": "markdown",
      "source": [
        "IMPLEMENTASI LOGIKA FUZZY DENGAN METODE TSUKAMOTO"
      ],
      "metadata": {
        "id": "d3YR2E5QVQMT"
      }
    },
    {
      "cell_type": "code",
      "execution_count": null,
      "metadata": {
        "id": "eqrBpQKaO8JC",
        "colab": {
          "base_uri": "https://localhost:8080/"
        },
        "outputId": "817c89ee-c647-4bc0-cc01-7ad3d846667c"
      },
      "outputs": [
        {
          "name": "stdout",
          "output_type": "stream",
          "text": [
            "Input Temperature (Dalam Farenheit) : 78\n",
            "Input Cloud Cover (%) : 40\n"
          ]
        }
      ],
      "source": [
        "#ingin menentukan kecepatan mobil, kecepatan mobil dipengaruhi oleh dua variabel yaitu temp dan cloud\n",
        "x_temperature = input('Input Temperature (Dalam Farenheit) : ')\n",
        "y_cloud = input('Input Cloud Cover (%) : ')\n",
        "\n",
        "#mengubah input menjadi integer data type\n",
        "temp = int(x_temperature)\n",
        "cloud = int(y_cloud)"
      ]
    },
    {
      "cell_type": "markdown",
      "source": [
        "TAHAP FUZZIFICATION / FUZZIFIKASI"
      ],
      "metadata": {
        "id": "DJ8IaZOJjPJJ"
      }
    },
    {
      "cell_type": "code",
      "source": [
        "if temp <= 30 :\n",
        "  freezing = 1\n",
        "  cool = 0\n",
        "  warm = 0\n",
        "  hot = 0\n",
        "elif temp > 30 and temp < 50 :\n",
        "  freezing = (50-temp)/(50-30)\n",
        "  cool = (temp-30)/(50-30)\n",
        "  warm = 0\n",
        "  hot = 0\n",
        "elif temp == 50 :\n",
        "  freezing = 0\n",
        "  cool = 1\n",
        "  warm = 0\n",
        "  hot = 0\n",
        "elif temp > 50 and temp < 70 :\n",
        "  freezing = 0\n",
        "  cool = (70 - temp)/(70 - 50)\n",
        "  warm = (temp - 50)/(70 - 50)\n",
        "  hot = 0\n",
        "elif temp == 70 :\n",
        "  freezing = 0\n",
        "  cool = 0\n",
        "  warm = 1\n",
        "  hot = 0\n",
        "elif temp > 70 and temp < 90 :\n",
        "  freezing = 0\n",
        "  cool = (90 - temp)/(90 - 70)\n",
        "  warm = (temp - 70)/(90 - 70)\n",
        "  hot = 0\n",
        "elif temp > 90 :\n",
        "  freezing = 0\n",
        "  cool = 0\n",
        "  warm = 0\n",
        "  hot = 1\n",
        "\n",
        "#print\n",
        "print('freezing : ', freezing)\n",
        "print('cool : ', cool)\n",
        "print('warm : ', warm)\n",
        "print('hot : ', hot)"
      ],
      "metadata": {
        "colab": {
          "base_uri": "https://localhost:8080/"
        },
        "id": "PP-qVCqUcHnh",
        "outputId": "f548c348-f36e-4889-9953-89b65254af70"
      },
      "execution_count": null,
      "outputs": [
        {
          "output_type": "stream",
          "name": "stdout",
          "text": [
            "freezing :  0\n",
            "cool :  0.6\n",
            "warm :  0.4\n",
            "hot :  0\n"
          ]
        }
      ]
    },
    {
      "cell_type": "code",
      "source": [
        "if cloud <= 20 :\n",
        "  cerah = 1\n",
        "  berawan = 0\n",
        "  mendung = 0\n",
        "elif cloud > 20 and cloud < 40 :\n",
        "  cerah = (40 - cloud)/(40 - 20)\n",
        "  mendung = 0\n",
        "if cloud > 20 and cloud < 50 :\n",
        "  if cloud >= 40:\n",
        "    cerah = 0\n",
        "  berawan = (cloud - 20)/(50 - 20)\n",
        "  mendung = 0\n",
        "elif cloud == 50:\n",
        "  cerah = 0\n",
        "  berawan = 1\n",
        "  mendung = 0\n",
        "elif cloud > 50 and cloud < 80 :\n",
        "  cerah = 0\n",
        "  berawan = (80 - cloud)/(80 - 50)\n",
        "  mendung = 0\n",
        "if cloud > 60 and cloud < 80 :\n",
        "  cerah = 0\n",
        "  berawan = (80 - cloud)/(80 - 50)\n",
        "  mendung = (cloud - 60)/(80 - 60)\n",
        "elif cloud >= 80 :\n",
        "  cerah = 0\n",
        "  berawan = 0\n",
        "  mendung = 1\n",
        "\n",
        "#print\n",
        "print('cerah : ', cerah)\n",
        "print('berawan : ', berawan)\n",
        "print('mendung : ', mendung)"
      ],
      "metadata": {
        "colab": {
          "base_uri": "https://localhost:8080/"
        },
        "id": "KJoLugzbcjtj",
        "outputId": "f2e2f932-ad6a-486e-f659-c13bab8c3abe"
      },
      "execution_count": null,
      "outputs": [
        {
          "output_type": "stream",
          "name": "stdout",
          "text": [
            "cerah :  0\n",
            "berawan :  0.6666666666666666\n",
            "mendung :  0\n"
          ]
        }
      ]
    },
    {
      "cell_type": "markdown",
      "source": [
        "TAHAP INFERENSI"
      ],
      "metadata": {
        "id": "QjFCh1_bjYPy"
      }
    },
    {
      "cell_type": "code",
      "source": [
        "#slow\n",
        "def angka_kecepatan_slow(z):\n",
        "  if z < 25 :\n",
        "    return 1\n",
        "  elif z > 25 and z < 75 :\n",
        "    return (75 - z)/(75-25)\n",
        "  else:\n",
        "    return 0\n",
        "\n",
        "#fast\n",
        "def angka_kecepatan_fast(z):\n",
        "  if z > 75 :\n",
        "    return 1\n",
        "  elif z > 25 and z < 75 :\n",
        "    return (z - 25)/(75-25)\n",
        "  else :\n",
        "    return 0"
      ],
      "metadata": {
        "id": "XA55cYlmSVd2"
      },
      "execution_count": null,
      "outputs": []
    },
    {
      "cell_type": "code",
      "source": [
        "speed = []\n",
        "def Inferens_Slow (temp, cloud) :\n",
        "  if temp != 0 and cloud != 0 :\n",
        "    output = min(temp, cloud)\n",
        "    speed.append([output, -(output*50)+75])\n",
        "\n",
        "def Inferens_Fast (temp, cloud) :\n",
        "  if temp != 0 and cloud != 0 :\n",
        "    output = min(temp, cloud)\n",
        "    speed.append([output, output*50+25])"
      ],
      "metadata": {
        "id": "fWzhKOibh0Rk"
      },
      "execution_count": null,
      "outputs": []
    },
    {
      "cell_type": "code",
      "source": [
        "Inferens_Slow(freezing, cerah)\n",
        "Inferens_Slow(freezing, berawan)\n",
        "Inferens_Slow(freezing, mendung)\n",
        "\n",
        "Inferens_Slow(cool, cerah)\n",
        "Inferens_Slow(cool, berawan)\n",
        "Inferens_Slow(cool, mendung)\n",
        "\n",
        "Inferens_Fast(warm, cerah)\n",
        "Inferens_Fast(warm, berawan)\n",
        "Inferens_Fast(warm, mendung)\n",
        "\n",
        "Inferens_Fast(hot, cerah)\n",
        "Inferens_Fast(hot, berawan)\n",
        "Inferens_Fast(hot, mendung)\n",
        "\n",
        "print('Speed : ', speed)"
      ],
      "metadata": {
        "colab": {
          "base_uri": "https://localhost:8080/"
        },
        "id": "Kz0eFH-7mZSV",
        "outputId": "985c7603-30a8-46f4-8341-cd9dd55ec83b"
      },
      "execution_count": null,
      "outputs": [
        {
          "output_type": "stream",
          "name": "stdout",
          "text": [
            "Speed :  [[0.6, 45.0], [0.4, 45.0]]\n"
          ]
        }
      ]
    },
    {
      "cell_type": "markdown",
      "source": [
        "TAHAP DEFUZZIFIKASI"
      ],
      "metadata": {
        "id": "s9_2HiEap_2R"
      }
    },
    {
      "cell_type": "code",
      "source": [
        "#menghitung nilai speed yang sudah didapatkan menjadi meter/jam\n",
        "kali_baru = 0\n",
        "bagi_baru = 0\n",
        "\n",
        "for i in range (0,len(speed)) :\n",
        "  kali = speed[i][0]*speed[i][1]\n",
        "  bagi = speed[i][0]\n",
        "  kali_baru += kali\n",
        "  bagi_baru += bagi\n",
        "\n",
        "z = kali_baru/bagi_baru\n",
        "print('Kecepatan mobil (meter/jam) : ', z)\n"
      ],
      "metadata": {
        "colab": {
          "base_uri": "https://localhost:8080/"
        },
        "id": "c_OZyFUkqGV0",
        "outputId": "7f5684eb-bba4-4789-e135-ba95aff63235"
      },
      "execution_count": null,
      "outputs": [
        {
          "output_type": "stream",
          "name": "stdout",
          "text": [
            "Kecepatan mobil (meter/jam) :  45.0\n"
          ]
        }
      ]
    }
  ]
}